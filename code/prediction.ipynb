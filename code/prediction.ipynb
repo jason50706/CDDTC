{
 "cells": [
  {
   "cell_type": "code",
   "execution_count": null,
   "metadata": {},
   "outputs": [],
   "source": [
    "from args import args, config\n",
    "from items_dataset import items_dataset\n",
    "from torch.utils.data import DataLoader\n",
    "from models import Model_Crf, Model_Softmax\n",
    "from transformers import AutoTokenizer\n",
    "import prediction\n",
    "import torch\n"
   ]
  },
  {
   "cell_type": "code",
   "execution_count": null,
   "metadata": {},
   "outputs": [],
   "source": [
    "directory = \"../model/\"\n",
    "model_name = \"roberta_crf_epoch_1.pt\"\n",
    "device = torch.device('cuda', 0) if torch.cuda.is_available() else torch.device('cpu')\n",
    "if args.use_crf:\n",
    "    model = Model_Crf(config).to(device)\n",
    "else:\n",
    "    model = Model_Softmax(config).to(device)\n",
    "model.load_state_dict(state_dict=torch.load(directory + model_name, map_location=device))"
   ]
  },
  {
   "cell_type": "code",
   "execution_count": null,
   "metadata": {},
   "outputs": [],
   "source": [
    "input_dict = [{\"span_labels\":[]}]\n",
    "input_dict[0][\"original_text\"] = \"媽媽在醫院支援武漢前線醫護發回的消息，這段期間切記不要穿帶毛領或是絨線的衣服外套，較容易吸附病毒，請廣而告之。\"\n",
    "tokenizer = AutoTokenizer.from_pretrained(args.pre_model_name, add_prefix_space=True)\n",
    "prediction_dataset = items_dataset(tokenizer, input_dict, args.label_dict)\n",
    "prediction_loader = DataLoader(prediction_dataset, batch_size=args.batch_size, shuffle=True, collate_fn=prediction_dataset.collate_fn)\n",
    "result = prediction.test_predict(prediction_loader, device, model)"
   ]
  },
  {
   "cell_type": "code",
   "execution_count": null,
   "metadata": {},
   "outputs": [],
   "source": [
    "print(result[0])"
   ]
  }
 ],
 "metadata": {
  "kernelspec": {
   "display_name": "for_project",
   "language": "python",
   "name": "python3"
  },
  "language_info": {
   "codemirror_mode": {
    "name": "ipython",
    "version": 3
   },
   "file_extension": ".py",
   "mimetype": "text/x-python",
   "name": "python",
   "nbconvert_exporter": "python",
   "pygments_lexer": "ipython3",
   "version": "3.9.13"
  },
  "orig_nbformat": 4,
  "vscode": {
   "interpreter": {
    "hash": "7d6017e34087523a14d1e41a3fef2927de5697dc5dbb9b7906df99909cc5c8a1"
   }
  }
 },
 "nbformat": 4,
 "nbformat_minor": 2
}
