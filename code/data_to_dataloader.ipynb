{
 "cells": [
  {
   "cell_type": "code",
   "execution_count": 7,
   "metadata": {},
   "outputs": [],
   "source": [
    "import json\n",
    "import torch\n",
    "from transformers import AutoTokenizer\n",
    "from torch.utils.data import DataLoader"
   ]
  },
  {
   "cell_type": "code",
   "execution_count": 8,
   "metadata": {},
   "outputs": [],
   "source": [
    "from args import args, config\n",
    "from items_dataset import items_dataset"
   ]
  },
  {
   "cell_type": "code",
   "execution_count": 9,
   "metadata": {},
   "outputs": [],
   "source": [
    "with open(args.DATA_PATH + \"train.json\", 'r', encoding=\"utf-8\") as f:\n",
    "    train_data = json.load(f)\n",
    "with open(args.DATA_PATH + \"dev.json\", 'r', encoding=\"utf-8\") as f:\n",
    "    val_data = json.load(f)\n",
    "with open(args.DATA_PATH + \"test.json\", 'r', encoding=\"utf-8\") as f:\n",
    "    test_data = json.load(f)"
   ]
  },
  {
   "cell_type": "code",
   "execution_count": 10,
   "metadata": {},
   "outputs": [],
   "source": [
    "#BertTokenizerFast\n",
    "tokenizer = AutoTokenizer.from_pretrained(args.pre_model_name, add_prefix_space=True)"
   ]
  },
  {
   "cell_type": "code",
   "execution_count": 11,
   "metadata": {},
   "outputs": [],
   "source": [
    "train_dataset = items_dataset(tokenizer, train_data, args.label_dict)\n",
    "val_dataset = items_dataset(tokenizer, val_data, args.label_dict)\n",
    "test_dataset = items_dataset(tokenizer, test_data, args.label_dict)\n",
    "train_loader = DataLoader(train_dataset, batch_size=args.batch_size, shuffle=True, collate_fn=train_dataset.collate_fn)\n",
    "val_loader = DataLoader(val_dataset, batch_size=args.batch_size, shuffle=True, collate_fn=val_dataset.collate_fn)\n",
    "test_loader = DataLoader(test_dataset, batch_size=args.batch_size, shuffle=False, collate_fn=test_dataset.collate_fn)"
   ]
  },
  {
   "cell_type": "code",
   "execution_count": 12,
   "metadata": {},
   "outputs": [],
   "source": [
    "torch.save(train_loader, args.DATA_PATH + 'train.pt')\n",
    "torch.save(val_loader, args.DATA_PATH  + 'dev.pt')\n",
    "torch.save(test_loader, args.DATA_PATH +'test.pt')"
   ]
  }
 ],
 "metadata": {
  "kernelspec": {
   "display_name": "for_project",
   "language": "python",
   "name": "python3"
  },
  "language_info": {
   "codemirror_mode": {
    "name": "ipython",
    "version": 3
   },
   "file_extension": ".py",
   "mimetype": "text/x-python",
   "name": "python",
   "nbconvert_exporter": "python",
   "pygments_lexer": "ipython3",
   "version": "3.9.13"
  },
  "orig_nbformat": 4,
  "vscode": {
   "interpreter": {
    "hash": "7d6017e34087523a14d1e41a3fef2927de5697dc5dbb9b7906df99909cc5c8a1"
   }
  }
 },
 "nbformat": 4,
 "nbformat_minor": 2
}
